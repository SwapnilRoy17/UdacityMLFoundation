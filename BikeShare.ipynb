{
 "cells": [
  {
   "cell_type": "code",
   "execution_count": null,
   "metadata": {},
   "outputs": [],
   "source": [
    "import pandas as pd\n",
    "CITY_DATA={'chicago': 'chicago.csv',\n",
    "          'new york city': 'new_york_city.csv',\n",
    "          'washington': 'washington.csv'}\n",
    "def raw_data(city,day):\n",
    "    \n",
    "#read data from the csv file    \n",
    "    df= pd.read_csv(CITY_DATA[city])\n",
    "#convert srart time to datetime format\n",
    "    df['Start Time']=pd.to_datetime(df['Start Time'])\n",
    "#extract month from start time    \n",
    "    df['Month']=df['Start Time'].dt.month\n",
    "#extract weekday name from start time\n",
    "    df['Day Of Week']=df['Start Time'].dt.weekday_name\n",
    "\n",
    "#filter by day\n",
    "    #day=input(\"Enter Day of week\")\n",
    "    df=df[df['Day Of Week']==day.title()]\n",
    "\n",
    "    return df\n",
    "\n",
    "\n",
    "city= input(\"Enter city amongst chicago, new york city, washington: \")\n",
    "city=city.lower()\n",
    "\n",
    "choice= input(\"You want to filter by month, day or both : \")\n",
    "if choice=='day':\n",
    "    day=input(\"Enter Day of week : \")\n",
    "    dr=raw_data(city,day)\n",
    "    print (dr)\n"
   ]
  },
  {
   "cell_type": "code",
   "execution_count": null,
   "metadata": {},
   "outputs": [],
   "source": []
  },
  {
   "cell_type": "code",
   "execution_count": null,
   "metadata": {},
   "outputs": [],
   "source": []
  }
 ],
 "metadata": {
  "kernelspec": {
   "display_name": "Python 3",
   "language": "python",
   "name": "python3"
  },
  "language_info": {
   "codemirror_mode": {
    "name": "ipython",
    "version": 3
   },
   "file_extension": ".py",
   "mimetype": "text/x-python",
   "name": "python",
   "nbconvert_exporter": "python",
   "pygments_lexer": "ipython3",
   "version": "3.7.1"
  }
 },
 "nbformat": 4,
 "nbformat_minor": 2
}
